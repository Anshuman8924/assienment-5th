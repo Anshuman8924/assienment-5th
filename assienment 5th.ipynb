{
 "cells": [
  {
   "cell_type": "code",
   "execution_count": null,
   "id": "0e26cceb-5781-4ea3-877b-bb07fb8a0a57",
   "metadata": {},
   "outputs": [],
   "source": [
    "#Q1. Create a python program to sort the given list of tuples based on integer value using\n",
    "\n",
    "# a lambda function.\n",
    "#[('Sachin Tendulkar', 34357), ('Ricky Ponting', 27483), ('Jack Kallis', 25534)\n",
    "# , ('Virat Kohli', 24936)]\n"
   ]
  },
  {
   "cell_type": "code",
   "execution_count": 26,
   "id": "295b5c69-411e-4021-8f51-758279bc61a5",
   "metadata": {},
   "outputs": [],
   "source": [
    "# value\n",
    "l=[('Sachin Tendulkar', 34357), ('Ricky Ponting', 27483), ('Jack Kallis', 25534)\n",
    " , ('Virat Kohli', 24936)]"
   ]
  },
  {
   "cell_type": "code",
   "execution_count": 55,
   "id": "e709e70e-62bc-4c34-bf26-c80459de12aa",
   "metadata": {},
   "outputs": [
    {
     "name": "stdout",
     "output_type": "stream",
     "text": [
      "[('Virat Kohli', 24936), ('Jack Kallis', 25534), ('Ricky Ponting', 27483), ('Sachin Tendulkar', 34357)]\n"
     ]
    }
   ],
   "source": [
    "# program \n",
    "print((sorted(l, key = lambda x : x[1])))\n"
   ]
  },
  {
   "cell_type": "code",
   "execution_count": null,
   "id": "a331a9ac-31de-444a-9cad-a7f5496046c8",
   "metadata": {},
   "outputs": [],
   "source": [
    "#Q2. Write a Python Program to find the squares of all the numbers in the given list of\n",
    "#integers using  lambda and map functions.\n",
    "             \n",
    "#[1, 2, 3, 4, 5, 6, 7, 8, 9, 10]"
   ]
  },
  {
   "cell_type": "code",
   "execution_count": 56,
   "id": "a209179d-a6aa-4eb6-9628-089b9e4f762a",
   "metadata": {},
   "outputs": [
    {
     "data": {
      "text/plain": [
       "[1, 4, 9, 16, 25, 36, 49, 64, 81, 100]"
      ]
     },
     "execution_count": 56,
     "metadata": {},
     "output_type": "execute_result"
    }
   ],
   "source": [
    "g=[1,2,3,4,5,6,7,8,9,10]\n",
    "list(map(lambda x : x**2 , g))\n"
   ]
  },
  {
   "cell_type": "code",
   "execution_count": 29,
   "id": "8c66a371-3186-419e-a00e-cbd3a923188a",
   "metadata": {},
   "outputs": [],
   "source": [
    "#Q3. Write a python program to convert the given list of integers into a tuple of\n",
    "#strings. Use map and lambda functions.\n",
    "#Given String: [1, 2, 3, 4, 5, 6, 7, 8, 9, 10]"
   ]
  },
  {
   "cell_type": "code",
   "execution_count": 53,
   "id": "d6cf1582-33d1-4b63-bd52-6ba0f166c45c",
   "metadata": {},
   "outputs": [],
   "source": [
    "h =[1,2,3,4,6,7,8,9,10]"
   ]
  },
  {
   "cell_type": "code",
   "execution_count": 54,
   "id": "2c8fa889-db12-46b3-90c6-38e8b06e1748",
   "metadata": {},
   "outputs": [
    {
     "data": {
      "text/plain": [
       "['1', '2', '3', '4', '6', '7', '8', '9', '10']"
      ]
     },
     "execution_count": 54,
     "metadata": {},
     "output_type": "execute_result"
    }
   ],
   "source": [
    "list(map(lambda x:str(x), h))\n"
   ]
  },
  {
   "cell_type": "code",
   "execution_count": null,
   "id": "9088af5c-e897-46cb-b2f5-2cc50d342cce",
   "metadata": {},
   "outputs": [],
   "source": [
    "Q4. Write a python program using reduce function to compute the product of a list containing numbers\n",
    "from 1 to 25."
   ]
  }
 ],
 "metadata": {
  "kernelspec": {
   "display_name": "Python 3 (ipykernel)",
   "language": "python",
   "name": "python3"
  },
  "language_info": {
   "codemirror_mode": {
    "name": "ipython",
    "version": 3
   },
   "file_extension": ".py",
   "mimetype": "text/x-python",
   "name": "python",
   "nbconvert_exporter": "python",
   "pygments_lexer": "ipython3",
   "version": "3.10.8"
  }
 },
 "nbformat": 4,
 "nbformat_minor": 5
}
